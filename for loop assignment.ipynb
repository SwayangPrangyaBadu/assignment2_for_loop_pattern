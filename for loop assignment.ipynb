{
 "cells": [
  {
   "cell_type": "code",
   "execution_count": 1137,
   "metadata": {},
   "outputs": [
    {
     "name": "stdout",
     "output_type": "stream",
     "text": [
      "*****\n",
      "****\n",
      "***\n",
      "**\n",
      "*\n"
     ]
    }
   ],
   "source": [
    "#1\n",
    "for i in range(5,0,-1):\n",
    "    print(i*\"*\")"
   ]
  },
  {
   "cell_type": "code",
   "execution_count": 1138,
   "metadata": {},
   "outputs": [
    {
     "name": "stdout",
     "output_type": "stream",
     "text": [
      "        \n",
      "      * \n",
      "     ** \n",
      "    *** \n",
      "   **** \n",
      "  ***** \n"
     ]
    }
   ],
   "source": [
    "#2\n",
    "x=5\n",
    "for i in range(0,6):\n",
    "    print((7-i)*\" \"+i*\"*\")\n"
   ]
  },
  {
   "cell_type": "code",
   "execution_count": 1139,
   "metadata": {},
   "outputs": [
    {
     "name": "stdout",
     "output_type": "stream",
     "text": [
      " *****\n",
      "  ****\n",
      "   ***\n",
      "    **\n",
      "     *\n"
     ]
    }
   ],
   "source": [
    "#3\n",
    "x=5\n",
    "for i in range(x,0,-1):\n",
    "    print((6-i)*\" \"+i*\"*\")"
   ]
  },
  {
   "cell_type": "code",
   "execution_count": 1140,
   "metadata": {},
   "outputs": [
    {
     "name": "stdout",
     "output_type": "stream",
     "text": [
      "*\n",
      "**\n",
      "***\n",
      "****\n",
      "*****\n"
     ]
    }
   ],
   "source": [
    "#4\n",
    "for i in range(1,6):\n",
    "    print(i*\"*\")"
   ]
  },
  {
   "cell_type": "code",
   "execution_count": 1141,
   "metadata": {},
   "outputs": [
    {
     "name": "stdout",
     "output_type": "stream",
     "text": [
      "* \n",
      "* * \n",
      "* * * \n",
      "* * * * \n",
      "* * * * * \n",
      "* * * * * \n",
      "* * * * \n",
      "* * * \n",
      "* * \n",
      "* \n"
     ]
    }
   ],
   "source": [
    "#5\n",
    "for i in range(1,6):\n",
    "    print(i*\"* \")\n",
    "if(i==5):\n",
    "        for i in range(5,0,-1):\n",
    "            print(i*\"* \")\n"
   ]
  },
  {
   "cell_type": "code",
   "execution_count": 1142,
   "metadata": {},
   "outputs": [
    {
     "name": "stdout",
     "output_type": "stream",
     "text": [
      "* * * * * \n",
      "* * * * \n",
      "* * * \n",
      "* * \n",
      "* \n",
      "* \n",
      "* * \n",
      "* * * \n",
      "* * * * \n",
      "* * * * * \n"
     ]
    }
   ],
   "source": [
    "#6\n",
    "for i in range(5,0,-1):\n",
    "    print(i*\"* \")\n",
    "    if(i==1):\n",
    "        for i in range(1,6):\n",
    "            print(i*\"* \")"
   ]
  },
  {
   "cell_type": "code",
   "execution_count": 1143,
   "metadata": {},
   "outputs": [
    {
     "name": "stdout",
     "output_type": "stream",
     "text": [
      "     *\n",
      "    **\n",
      "   ***\n",
      "  ****\n",
      " *****\n",
      " *****\n",
      "  ****\n",
      "   ***\n",
      "    **\n",
      "     *\n"
     ]
    }
   ],
   "source": [
    "#7\n",
    "for i in range(1,6):\n",
    "    print((6-i)*\" \"+i*\"*\")\n",
    "    if i==5:\n",
    "      for i in range(5,0,-1):\n",
    "          print((6-i)*\" \"+i*\"*\")"
   ]
  },
  {
   "cell_type": "code",
   "execution_count": 1144,
   "metadata": {},
   "outputs": [
    {
     "name": "stdout",
     "output_type": "stream",
     "text": [
      " *****\n",
      "  ****\n",
      "   ***\n",
      "    **\n",
      "     *\n",
      "    **\n",
      "   ***\n",
      "  ****\n",
      " *****\n"
     ]
    }
   ],
   "source": [
    "#8\n",
    "x=5\n",
    "for i in range(5,0,-1):\n",
    "    print((6-i)*\" \"+i*\"*\")\n",
    "    if i==1:\n",
    "        for i in range(2,6):\n",
    "            print((6-i)*\" \"+i*\"*\")"
   ]
  },
  {
   "cell_type": "code",
   "execution_count": 1145,
   "metadata": {},
   "outputs": [
    {
     "name": "stdout",
     "output_type": "stream",
     "text": [
      "         *          \n",
      "       * * *        \n",
      "     * * * * *      \n",
      "   * * * * * * *    \n",
      " * * * * * * * * *  \n"
     ]
    }
   ],
   "source": [
    "#9\n",
    "for i in range(1,10,2):\n",
    "    print((i*\"* \").center(20))"
   ]
  },
  {
   "cell_type": "code",
   "execution_count": 1146,
   "metadata": {},
   "outputs": [
    {
     "name": "stdout",
     "output_type": "stream",
     "text": [
      "* * * * * * * * * * \n",
      " * * * * * * * * *  \n",
      "  * * * * * * * *   \n",
      "   * * * * * * *    \n",
      "    * * * * * *     \n",
      "     * * * * *      \n",
      "      * * * *       \n",
      "       * * *        \n",
      "        * *         \n",
      "         *          \n",
      "         *          \n",
      "        * *         \n",
      "       * * *        \n",
      "      * * * *       \n",
      "     * * * * *      \n",
      "    * * * * * *     \n",
      "   * * * * * * *    \n",
      "  * * * * * * * *   \n",
      " * * * * * * * * *  \n"
     ]
    }
   ],
   "source": [
    "#10\n",
    "for i in range(10,0,-1):\n",
    "    print((i*\"* \").center(20))\n",
    "    if(i==1):\n",
    "        for i in range(1,10):\n",
    "            print((i*\"* \").center(20))"
   ]
  },
  {
   "cell_type": "code",
   "execution_count": 1147,
   "metadata": {},
   "outputs": [
    {
     "name": "stdout",
     "output_type": "stream",
     "text": [
      "*        *\n",
      "**      **\n",
      "***    ***\n",
      "****  ****\n",
      "**********\n"
     ]
    }
   ],
   "source": [
    "#11\n",
    "x=6\n",
    "for i in range(1,6):\n",
    "    y=(x-(i+1))*\" \"+i*\"*\"\n",
    "    print(i*\"*\"+(x-(i+1))*\" \"+y)"
   ]
  },
  {
   "cell_type": "code",
   "execution_count": 1148,
   "metadata": {},
   "outputs": [
    {
     "name": "stdout",
     "output_type": "stream",
     "text": [
      "************\n",
      "*****  *****\n",
      "****    ****\n",
      "***      ***\n",
      "**        **\n",
      "*          *\n"
     ]
    }
   ],
   "source": [
    "#12\n",
    "x=6\n",
    "for i in range(6,0,-1):\n",
    "    y=(x-i)*\" \"+i*\"*\"\n",
    "    print(i*\"*\"+(x-(i))*\" \"+y)"
   ]
  },
  {
   "cell_type": "code",
   "execution_count": 1149,
   "metadata": {},
   "outputs": [
    {
     "name": "stdout",
     "output_type": "stream",
     "text": [
      "*          *\n",
      "**        **\n",
      "***      ***\n",
      "****    ****\n",
      "*****  *****\n",
      "************\n",
      "*****  *****\n",
      "****    ****\n",
      "***      ***\n",
      "**        **\n",
      "*          *\n"
     ]
    }
   ],
   "source": [
    "#13\n",
    "for i in range(1,6):\n",
    "    print(\"*\"*i+\" \"*(6-i)+\" \"*(6-i)+\"*\"*i)\n",
    "    if i==5:\n",
    "        for j in range(6,0,-1):\n",
    "            print(\"*\"*j+\" \"*(6-j)+\" \"*(6-j)+\"*\"*j)\n",
    "\n",
    "\n"
   ]
  },
  {
   "cell_type": "code",
   "execution_count": 1150,
   "metadata": {},
   "outputs": [
    {
     "name": "stdout",
     "output_type": "stream",
     "text": [
      "************\n",
      "*****  *****\n",
      "****    ****\n",
      "***      ***\n",
      "**        **\n",
      "*          *\n",
      "*          *\n",
      "**        **\n",
      "***      ***\n",
      "****    ****\n",
      "*****  *****\n"
     ]
    }
   ],
   "source": [
    "#14\n",
    "for i in range(6,0,-1):\n",
    "    print(\"*\"*i+\" \"*(6-i)+\" \"*(6-i)+\"*\"*i)\n",
    "    if i==1:\n",
    "      for j in range(1,6):\n",
    "        print(\"*\"*j+\" \"*(6-j)+\" \"*(6-j)+\"*\"*j)\n"
   ]
  },
  {
   "cell_type": "code",
   "execution_count": 1151,
   "metadata": {},
   "outputs": [
    {
     "name": "stdout",
     "output_type": "stream",
     "text": [
      "*\n",
      "**\n",
      "* *\n",
      "*  *\n",
      "*****\n"
     ]
    }
   ],
   "source": [
    "#15\n",
    "k=1\n",
    "for i in range(1,6):\n",
    "    if i==1 or i==2 or i==5:\n",
    "     print(i*\"*\")\n",
    "    elif i==3:\n",
    "      print(k*\"*\"+\" \"+k*\"*\")\n",
    "    else:\n",
    "        print(k*\"*\"+\"  \"+k*\"*\")"
   ]
  },
  {
   "cell_type": "code",
   "execution_count": 1152,
   "metadata": {},
   "outputs": [
    {
     "name": "stdout",
     "output_type": "stream",
     "text": [
      "*****\n",
      "*  *\n",
      "* *\n",
      "**\n",
      "*\n"
     ]
    }
   ],
   "source": [
    "#16\n",
    "k=1\n",
    "for i in range(5,0,-1):\n",
    "    if i==5 or i==2 or i==1:\n",
    "     print(i*\"*\")\n",
    "    elif i==3:\n",
    "        print(k*\"*\"+\" \"+k*\"*\")\n",
    "    else:\n",
    "        print(k*\"*\"+\"  \"+k*\"*\")"
   ]
  },
  {
   "cell_type": "code",
   "execution_count": 1153,
   "metadata": {},
   "outputs": [
    {
     "name": "stdout",
     "output_type": "stream",
     "text": [
      "      *\n",
      "     **\n",
      "    * *\n",
      "   *  *\n",
      "  *****\n"
     ]
    }
   ],
   "source": [
    "#17\n",
    "k=1\n",
    "for i in range(0,6):\n",
    "    if i==5 or i==2 or i==1:\n",
    "     print((7-i)*\" \"+i*\"*\")\n",
    "    elif i==3:\n",
    "        print(\"    \"+k*\"*\"+\" \"+k*\"*\")\n",
    "    elif i==4:\n",
    "        print(\"   \"+k*\"*\"+\"  \"+k*\"*\")\n"
   ]
  },
  {
   "cell_type": "code",
   "execution_count": 1154,
   "metadata": {},
   "outputs": [
    {
     "name": "stdout",
     "output_type": "stream",
     "text": [
      "*****\n",
      "*  *\n",
      "* *\n",
      "**\n",
      "*\n",
      "*\n",
      "**\n",
      "**\n",
      "*  *\n",
      "*****\n"
     ]
    }
   ],
   "source": [
    "#18\n",
    "k=1\n",
    "x=2\n",
    "for i in range(5,0,-1):\n",
    "    if i==5 or i==2 or i==1:\n",
    "     print(i*\"*\")\n",
    "    else:\n",
    "        print(k*\"*\"+x*\" \"+k*\"*\")\n",
    "        x=x-1\n",
    "for j in range(1,6):\n",
    "    if j==1 or j==2 or j==5:\n",
    "     print(j*\"*\")\n",
    "    else:\n",
    "        print(k*\"*\"+x*\"  \"+k*\"*\")\n",
    "        x=x+1"
   ]
  },
  {
   "cell_type": "code",
   "execution_count": 1155,
   "metadata": {},
   "outputs": [
    {
     "name": "stdout",
     "output_type": "stream",
     "text": [
      "      *\n",
      "     **\n",
      "    * *\n",
      "   *  *\n",
      "  *   *\n",
      "   *  *\n",
      "     **\n",
      "      *\n"
     ]
    }
   ],
   "source": [
    "#19\n",
    "k=1\n",
    "for i in range(0,6):\n",
    " if i==2 or i==1:\n",
    "    print((7-i)*\" \"+i*\"*\")\n",
    " elif i==4:\n",
    "        print(\"    \"+k*\"*\"+\" \"+k*\"*\")\n",
    " elif i==5:\n",
    "        print(\"   \"+k*\"*\"+\"  \"+k*\"*\")  \n",
    "for j in range(5,0,-1):\n",
    " if j==1 or j==2:\n",
    "    print((7-j)*\" \"+j*\"*\")\n",
    " elif j==5:\n",
    "     print(\"  \"+k*\"*\"+\"   \"+k*\"*\")\n",
    " elif j==4:\n",
    "        print(\"   \"+k*\"*\"+\"  \"+k*\"*\")         "
   ]
  },
  {
   "cell_type": "code",
   "execution_count": 1156,
   "metadata": {},
   "outputs": [
    {
     "name": "stdout",
     "output_type": "stream",
     "text": [
      "  *****\n",
      "   *  *\n",
      "    * *\n",
      "     **\n",
      "      *\n",
      "      *\n",
      "     **\n",
      "    * *\n",
      "   *  *\n",
      "  *****\n"
     ]
    }
   ],
   "source": [
    "#20\n",
    "k=1\n",
    "for i in range(5,0,-1):\n",
    "    if i==5 or i==2 or i==1:\n",
    "     print((7-i)*\" \"+i*\"*\")\n",
    "    elif i==3:\n",
    "        print(\"    \"+k*\"*\"+\" \"+k*\"*\")\n",
    "    else:\n",
    "        print(\"   \"+k*\"*\"+\"  \"+k*\"*\")\n",
    "for j in range(0,6):\n",
    "    if j==5 or j==2 or j==1:\n",
    "     print((7-j)*\" \"+j*\"*\")\n",
    "    elif j==3:\n",
    "        print(\"    \"+k*\"*\"+\" \"+k*\"*\")\n",
    "    elif j==4:\n",
    "        print(\"   \"+k*\"*\"+\"  \"+k*\"*\")\n"
   ]
  },
  {
   "cell_type": "code",
   "execution_count": 1157,
   "metadata": {},
   "outputs": [
    {
     "name": "stdout",
     "output_type": "stream",
     "text": [
      "    *    \n",
      "   * *   \n",
      "  *   *  \n",
      " *     * \n",
      "*********\n"
     ]
    }
   ],
   "source": [
    "#21\n",
    "k=1\n",
    "max=9\n",
    "for i in range(1,6):\n",
    "    if i==1 :\n",
    "     print((i*\"*\").center(max))\n",
    "    elif i==5:\n",
    "        print((max*\"*\").center(max))\n",
    "    else:\n",
    "        print((\"*\"+k*\" \"+\"*\").center(max))\n",
    "        k=k+2\n",
    "        \n"
   ]
  },
  {
   "cell_type": "code",
   "execution_count": 1158,
   "metadata": {},
   "outputs": [
    {
     "name": "stdout",
     "output_type": "stream",
     "text": [
      "*********\n",
      " *     * \n",
      "  *   *  \n",
      "   * *   \n",
      "    *    \n"
     ]
    }
   ],
   "source": [
    "#22\n",
    "k=5\n",
    "max=9\n",
    "for i in range(5,0,-1):\n",
    "    if i==1:\n",
    "        print((i*\"*\").center(max))\n",
    "    elif i==5:\n",
    "        print((max*\"*\").center(max))\n",
    "    else:\n",
    "        print((\"*\"+k*\" \"+\"*\").center(max))\n",
    "        k=k-2\n",
    "        \n",
    "      "
   ]
  },
  {
   "cell_type": "code",
   "execution_count": 1159,
   "metadata": {},
   "outputs": [
    {
     "name": "stdout",
     "output_type": "stream",
     "text": [
      "    *    \n",
      "   * *   \n",
      "  *   *  \n",
      " *     * \n",
      "*       *\n",
      " *     * \n",
      "  *   *  \n",
      "   * *   \n",
      "    *    \n"
     ]
    }
   ],
   "source": [
    "#23\n",
    "max=9\n",
    "x=1\n",
    "y=7\n",
    "for i in range(1,5):\n",
    "    if i==1 :\n",
    "     print((i*\"*\").center(max))\n",
    "    else:\n",
    "        print((\"*\"+x*\" \"+\"*\").center(max))\n",
    "        x=x+2   \n",
    "for j in range(5,0,-1):\n",
    "    if j==1:\n",
    "        print((j*\"*\").center(max))\n",
    "    else:   \n",
    "       print((\"*\"+y*\" \"+\"*\").center(max))\n",
    "       y=y-2          "
   ]
  },
  {
   "cell_type": "code",
   "execution_count": 1160,
   "metadata": {},
   "outputs": [
    {
     "name": "stdout",
     "output_type": "stream",
     "text": [
      "*********\n",
      " *     * \n",
      "  *   *  \n",
      "   * *   \n",
      "    *    \n",
      "    *    \n",
      "   * *   \n",
      "  *   *  \n",
      " *     * \n",
      "*********\n"
     ]
    }
   ],
   "source": [
    "#24\n",
    "k=5\n",
    "max=9\n",
    "for i in range(5,0,-1):\n",
    "    if i==1:\n",
    "        print((i*\"*\").center(max))\n",
    "    elif i==5:\n",
    "        print((max*\"*\").center(max))\n",
    "    else:\n",
    "        print((\"*\"+k*\" \"+\"*\").center(max))\n",
    "        k=k-2\n",
    "x=1\n",
    "max=9\n",
    "for j in range(1,6):\n",
    "    if j==1 :\n",
    "     print((j*\"*\").center(max))\n",
    "    elif j==5:\n",
    "        print((max*\"*\").center(max))\n",
    "    else:\n",
    "        print((\"*\"+x*\" \"+\"*\").center(max))\n",
    "        x=x+2        "
   ]
  },
  {
   "cell_type": "code",
   "execution_count": 1161,
   "metadata": {},
   "outputs": [
    {
     "name": "stdout",
     "output_type": "stream",
     "text": [
      "* * * * * \n",
      "* * * * * \n",
      "* * * * * \n",
      "* * * * * \n",
      "* * * * * \n"
     ]
    }
   ],
   "source": [
    "#25\n",
    "for i in range(1,6):\n",
    "    for j in range(5,j+1):\n",
    "        print(j*\"* \")"
   ]
  },
  {
   "cell_type": "code",
   "execution_count": 1162,
   "metadata": {},
   "outputs": [
    {
     "name": "stdout",
     "output_type": "stream",
     "text": [
      " 1 \n",
      " 1 2 \n",
      " 1 2 3 \n",
      " 1 2 3 4 \n",
      " 1 2 3 4 5 \n"
     ]
    }
   ],
   "source": [
    "#26\n",
    "for i in range(1,6):\n",
    "    a=\" \"\n",
    "    for j in range(1,i+1):\n",
    "        a=a+str(j)+\" \"\n",
    "    print(a)"
   ]
  },
  {
   "cell_type": "code",
   "execution_count": 1163,
   "metadata": {},
   "outputs": [
    {
     "name": "stdout",
     "output_type": "stream",
     "text": [
      "A \n",
      "A B \n",
      "A B C \n",
      "A B C D \n",
      "A B C D E \n"
     ]
    }
   ],
   "source": [
    "#27\n",
    "x=6\n",
    "data=\"\"\n",
    "for i in range(1,x):\n",
    "    data=data+chr(64+i)+\" \"\n",
    "    print(data)"
   ]
  },
  {
   "cell_type": "code",
   "execution_count": 1164,
   "metadata": {},
   "outputs": [
    {
     "name": "stdout",
     "output_type": "stream",
     "text": [
      " 1 \n",
      " 2 2 \n",
      " 3 3 3 \n",
      " 4 4 4 4 \n",
      " 5 5 5 5 5 \n"
     ]
    }
   ],
   "source": [
    "#28\n",
    "for i in range(1,6):\n",
    "    a=\" \"\n",
    "    for j in range(1,i+1):\n",
    "        a=a+str(i)+\" \"\n",
    "    print(a)   "
   ]
  },
  {
   "cell_type": "code",
   "execution_count": 1165,
   "metadata": {},
   "outputs": [
    {
     "name": "stdout",
     "output_type": "stream",
     "text": [
      " \n",
      " \n",
      " A \n",
      " A B \n",
      " A B C \n",
      " A B C D \n",
      " A B C D E \n"
     ]
    }
   ],
   "source": [
    "#29\n",
    "for i in range(0,7):\n",
    "    y=\" \"\n",
    "    for j in range(1,i):\n",
    "        y=y+chr(64+j)+\" \"\n",
    "    print(y)"
   ]
  },
  {
   "cell_type": "code",
   "execution_count": 1166,
   "metadata": {},
   "outputs": [
    {
     "name": "stdout",
     "output_type": "stream",
     "text": [
      "         1          \n",
      "        1 2         \n",
      "       1 2 3        \n",
      "      1 2 3 4       \n",
      "     1 2 3 4 5      \n"
     ]
    }
   ],
   "source": [
    "#30\n",
    "x=6\n",
    "star=\"\"\n",
    "for i in range(1,x):\n",
    "    star=star+str(i)+\" \"\n",
    "    print(star.center(20,\" \"))"
   ]
  },
  {
   "cell_type": "code",
   "execution_count": 1167,
   "metadata": {},
   "outputs": [
    {
     "name": "stdout",
     "output_type": "stream",
     "text": [
      "          5         \n",
      "         4 5        \n",
      "        3 4 5       \n",
      "       2 3 4 5      \n",
      "      1 2 3 4 5     \n"
     ]
    }
   ],
   "source": [
    "#31\n",
    "x=6\n",
    "star=\"\"\n",
    "for i in range(1,x):\n",
    "    star=\" \"+str(x-i)+star\n",
    "    print(star.center(20,\" \"))"
   ]
  },
  {
   "cell_type": "code",
   "execution_count": 1168,
   "metadata": {},
   "outputs": [
    {
     "name": "stdout",
     "output_type": "stream",
     "text": [
      "         A          \n",
      "        A B         \n",
      "       A B C        \n",
      "      A B C D       \n",
      "     A B C D E      \n"
     ]
    }
   ],
   "source": [
    "#32\n",
    "x=6\n",
    "data=\"\"\n",
    "for i in range(1,x):\n",
    "    data=data+chr(64+i)+\" \"\n",
    "    print(data.center(20,\" \"))"
   ]
  },
  {
   "cell_type": "code",
   "execution_count": 1169,
   "metadata": {},
   "outputs": [
    {
     "name": "stdout",
     "output_type": "stream",
     "text": [
      "          E         \n",
      "         D E        \n",
      "        C D E       \n",
      "       B C D E      \n",
      "      A B C D E     \n"
     ]
    }
   ],
   "source": [
    "#33\n",
    "x=5\n",
    "star=\"\"\n",
    "for i in range(x,0,-1):\n",
    "    star=\" \"+str(chr(64+i))+star\n",
    "    print(star.center(20,\" \"))"
   ]
  },
  {
   "cell_type": "code",
   "execution_count": 1170,
   "metadata": {},
   "outputs": [
    {
     "name": "stdout",
     "output_type": "stream",
     "text": [
      "         1          \n",
      "        2 2         \n",
      "       3 3 3        \n",
      "      4 4 4 4       \n",
      "     5 5 5 5 5      \n"
     ]
    }
   ],
   "source": [
    "#34\n",
    "x=6\n",
    "for i in range(1,x):\n",
    "    a=\" \".join(i*str(i))\n",
    "    print(a.center(20,\" \"))"
   ]
  },
  {
   "cell_type": "code",
   "execution_count": 1171,
   "metadata": {},
   "outputs": [
    {
     "name": "stdout",
     "output_type": "stream",
     "text": [
      "         A          \n",
      "        B B         \n",
      "       C C C        \n",
      "      D D D D       \n",
      "     E E E E E      \n"
     ]
    }
   ],
   "source": [
    "#35\n",
    "x=6\n",
    "for i in range(1,6):\n",
    "    y=\" \".join(i*str(chr(64+i)))\n",
    "    print(y.center(20,\" \"))"
   ]
  },
  {
   "cell_type": "code",
   "execution_count": 1172,
   "metadata": {},
   "outputs": [
    {
     "name": "stdout",
     "output_type": "stream",
     "text": [
      "1 2 3 4 5\n",
      "1 2 3 4\n",
      "1 2 3\n",
      "1 2\n",
      "1\n"
     ]
    }
   ],
   "source": [
    "#36\n",
    "for i in range(5,0,-1):\n",
    "    y=\"\"\n",
    "    for j in range(1,i+1):\n",
    "        y=y+str(j)\n",
    "    print(\" \".join(y))"
   ]
  },
  {
   "cell_type": "code",
   "execution_count": 1173,
   "metadata": {},
   "outputs": [
    {
     "name": "stdout",
     "output_type": "stream",
     "text": [
      "5 4 3 2 1\n",
      "4 3 2 1\n",
      "3 2 1\n",
      "2 1\n",
      "1\n"
     ]
    }
   ],
   "source": [
    "#37\n",
    "for i in range(5,0,-1):\n",
    "    y=\"\"\n",
    "    for j in range(i,0,-1):\n",
    "        y=y+str(j)\n",
    "    print(\" \".join(y))"
   ]
  },
  {
   "cell_type": "code",
   "execution_count": 1174,
   "metadata": {},
   "outputs": [
    {
     "name": "stdout",
     "output_type": "stream",
     "text": [
      "5 4 3 2 1 \n",
      "5 4 3 2 \n",
      "5 4 3 \n",
      "5 4 \n",
      "5 \n"
     ]
    }
   ],
   "source": [
    "#38\n",
    "for i in range(1,6):\n",
    "    for j in range(5,i-1,-1):\n",
    "        print(j,end=\" \")\n",
    "    print()   "
   ]
  },
  {
   "cell_type": "code",
   "execution_count": 1175,
   "metadata": {},
   "outputs": [
    {
     "name": "stdout",
     "output_type": "stream",
     "text": [
      "5 \n",
      "5 4 \n",
      "5 4 3 \n",
      "5 4 3 2 \n",
      "5 4 3 2 1 \n"
     ]
    }
   ],
   "source": [
    "#39\n",
    "x=6\n",
    "y=\"\"\n",
    "for i in range(1,6):\n",
    "    y=y+str(x-i)+\" \"\n",
    "    print(y)"
   ]
  },
  {
   "cell_type": "code",
   "execution_count": 1176,
   "metadata": {},
   "outputs": [
    {
     "name": "stdout",
     "output_type": "stream",
     "text": [
      "1 \n",
      "2 3 \n",
      "4 5 6 \n",
      "7 8 9 10 \n",
      "11 12 13 14 15 \n"
     ]
    }
   ],
   "source": [
    "#40\n",
    "x=6\n",
    "num=0\n",
    "for i in range(1,x):\n",
    "    y=\"\"\n",
    "    for j in range(0,i):\n",
    "        num=num+1\n",
    "        y=y+str(num)+\" \"\n",
    "    print(y)"
   ]
  },
  {
   "cell_type": "code",
   "execution_count": 1177,
   "metadata": {},
   "outputs": [
    {
     "name": "stdout",
     "output_type": "stream",
     "text": [
      "A B C D E \n",
      "A B C D \n",
      "A B C \n",
      "A B \n",
      "A \n"
     ]
    }
   ],
   "source": [
    "#41\n",
    "x=6 \n",
    "for i in range(6,1,-1):\n",
    "    y=\"\"\n",
    "    for j in range(1,i):\n",
    "        y=y+chr(64+j)+\" \"\n",
    "    print(y)"
   ]
  }
 ],
 "metadata": {
  "kernelspec": {
   "display_name": "Python 3",
   "language": "python",
   "name": "python3"
  },
  "language_info": {
   "codemirror_mode": {
    "name": "ipython",
    "version": 3
   },
   "file_extension": ".py",
   "mimetype": "text/x-python",
   "name": "python",
   "nbconvert_exporter": "python",
   "pygments_lexer": "ipython3",
   "version": "3.11.1"
  },
  "orig_nbformat": 4,
  "vscode": {
   "interpreter": {
    "hash": "c261aea317cc0286b3b3261fbba9abdec21eaa57589985bb7a274bf54d6cc0a7"
   }
  }
 },
 "nbformat": 4,
 "nbformat_minor": 2
}
